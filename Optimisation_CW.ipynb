{
 "cells": [
  {
   "cell_type": "markdown",
   "metadata": {},
   "source": [
    "# Developing Optimisers in Python\n",
    "## Coursework Assignment\n",
    "\n",
    "- The stochastic algorithm I used for Task 3 was Simulated Annealing\n",
    "- When compared to other implementations, such as genetic algorithms, simmulated annealing seemed simplest implementation for this problem \n",
    "- All constraints were applied for both optimisers. This was done to reduce the decision space.\n",
    "- From analysis, because simmulated annealing has a more consistently lower solution, it can be assumed that simmulated annealing is better for this particular function."
   ]
  },
  {
   "cell_type": "code",
   "execution_count": 90,
   "metadata": {},
   "outputs": [],
   "source": [
    "import random as random\n",
    "import numpy as np\n",
    "import math as m\n",
    "import matplotlib.pyplot as plt"
   ]
  },
  {
   "cell_type": "markdown",
   "metadata": {},
   "source": [
    "### Task 1: "
   ]
  },
  {
   "cell_type": "code",
   "execution_count": 91,
   "metadata": {},
   "outputs": [],
   "source": [
    "def f(x):\n",
    "    \n",
    "    x1 = x[0]\n",
    "    x2 = x[1]\n",
    "    x3 = x[2]\n",
    "    \n",
    "    return ((x1**2)*x2*(2+x3))\n",
    "\n"
   ]
  },
  {
   "cell_type": "code",
   "execution_count": 92,
   "metadata": {},
   "outputs": [],
   "source": [
    "def g1(x):\n",
    "    \n",
    "    x1 = x[0]\n",
    "    x2 = x[1]\n",
    "    x3 = x[2]\n",
    "    \n",
    "    return(1- ((x2**3)*x3) / (71785*(x1**4)))"
   ]
  },
  {
   "cell_type": "code",
   "execution_count": 93,
   "metadata": {},
   "outputs": [],
   "source": [
    "def g2(x):  \n",
    "    \n",
    "    x1 = x[0]\n",
    "    x2 = x[1]\n",
    "    x3 = x[2]\n",
    "    \n",
    "    return (((4*x2**2)-(x1*x2))/(12566*(x2*x1**3 - x1**4))) + (1/(5108*(x1**2))) - 1"
   ]
  },
  {
   "cell_type": "code",
   "execution_count": 94,
   "metadata": {},
   "outputs": [],
   "source": [
    "def g3(x):\n",
    "    \n",
    "    x1 = x[0]\n",
    "    x2 = x[1]\n",
    "    x3 = x[2]\n",
    "    \n",
    "    return(1-((140.45*x1)/((x2**2)*x3)))"
   ]
  },
  {
   "cell_type": "code",
   "execution_count": 95,
   "metadata": {},
   "outputs": [],
   "source": [
    "def g4(x):\n",
    "    \n",
    "    x1 = x[0]\n",
    "    x2 = x[1]\n",
    "    \n",
    "    return ((x1+x2/1.5)-1)"
   ]
  },
  {
   "cell_type": "markdown",
   "metadata": {},
   "source": [
    "### Task 2"
   ]
  },
  {
   "cell_type": "code",
   "execution_count": 96,
   "metadata": {},
   "outputs": [],
   "source": [
    "# initialising and bounding values to the array x\n",
    "boundary = np.array([[0.05,2],[0.25,1.3],[2,15]])\n",
    "x = np.array([boundary[i][0] + random.random()*(boundary[i][1]-boundary[i][0])for i in range(len(boundary))])"
   ]
  },
  {
   "cell_type": "code",
   "execution_count": 97,
   "metadata": {},
   "outputs": [],
   "source": [
    "# method to calculate static penalty for any given function and constrainst: \n",
    "def s(x,constraint_funcs,r=20,beta=1):\n",
    "    return r*np.max([0,constraint_funcs(x)])**beta\n",
    "\n",
    "\n",
    "# method to apply the static penalty to any function and constraint   \n",
    "def phi_static(x,function,constraint_sum):\n",
    "    return f(x) + constraint_sum"
   ]
  },
  {
   "cell_type": "code",
   "execution_count": 98,
   "metadata": {},
   "outputs": [],
   "source": [
    "# Random Search Algorithm applied to function f\n",
    "def RS(x,function,iterations):\n",
    "    \n",
    "    # start with any large number\n",
    "    best_solution = 999999999999999\n",
    "    \n",
    "    # initialise an empty array for three x variables; \n",
    "    best_x = [None]*3\n",
    "    \n",
    "    for i in range(iterations):\n",
    "        \n",
    "        # produce a random set of x values for each iteration\n",
    "        new_x = [boundary[i][0] + random.random()*(boundary[i][1]-boundary[i][0])for i in range(len(boundary))]\n",
    "        \n",
    "        # calculate the static penalty of function at current iteration\n",
    "        constraints = s(new_x,g1) + s(new_x,g2) + s(new_x,g3) + s(new_x,g4)\n",
    "        \n",
    "        # apply static penalty to each constraint to get new solution\n",
    "        new_solution = phi_static(new_x,function,constraints)\n",
    "\n",
    "        # update current solution if new solution is better\n",
    "        if(new_solution < best_solution):\n",
    "            best_solution = new_solution \n",
    "            best_x = new_x\n",
    "\n",
    "    return best_x,best_solution        "
   ]
  },
  {
   "cell_type": "code",
   "execution_count": 99,
   "metadata": {},
   "outputs": [
    {
     "name": "stdout",
     "output_type": "stream",
     "text": [
      "([0.05604094045137571, 0.4493467136705989, 9.973004788050446], 0.01689645342614435)\n"
     ]
    }
   ],
   "source": [
    "print(RS(x,f,3000))"
   ]
  },
  {
   "cell_type": "markdown",
   "metadata": {},
   "source": [
    "### Task 3"
   ]
  },
  {
   "cell_type": "code",
   "execution_count": 100,
   "metadata": {},
   "outputs": [],
   "source": [
    "# T function (Local-search transition distribution)\n",
    "def T (x,boundary):\n",
    "    \n",
    "    #produce a 1d array of variances of the x dimensions\n",
    "    variance = np.array([boundary[0][1]-boundary[0][0],\n",
    "                         boundary[1][1]-boundary[1][0],\n",
    "                         boundary[2][1]-boundary[2][0]])\n",
    "    \n",
    "    #get the standard deviation for which we bind 10% of its distribution value i.e deviation[i] = (bi - ai) x 0.1\n",
    "    standard_deviation = variance * 0.1\n",
    "    \n",
    "    #we then transpose and diagonalise the deviations to get:\n",
    "    #[d00]\n",
    "    #[0d0]\n",
    "    #[00d]\n",
    "    # where d is the deviation\n",
    "    covariance = np.diag(standard_deviation)\n",
    "    \n",
    "    return np.random.multivariate_normal(x,covariance)\n",
    "\n",
    "\n",
    "#simple helper function to ensure x dimension remain in boundary.\n",
    "def bound(x,boundary):\n",
    "    for i in range(len(x)):\n",
    "        if(x[i]>boundary[i][1]):\n",
    "            x[i]=boundary[i][1]\n",
    "        if(x[i]<boundary[i][0]):\n",
    "            x[i]=boundary[i][0]\n",
    "    return x\n",
    "    "
   ]
  },
  {
   "cell_type": "code",
   "execution_count": 101,
   "metadata": {},
   "outputs": [],
   "source": [
    "# Simulated Annealing Optimisation applied to function f\n",
    "def SA(x,function,iterations,temperature):\n",
    "    \n",
    "    # create array of all the upperbounds and lowerbounds \n",
    "    Tmin = [boundary[b][0] for b in range(len(x))]\n",
    "    Tmax = [boundary[b][1] for b in range(len(x))]\n",
    "    \n",
    "    # select a random initial x value and find it's resulting y value\n",
    "    best_x = x\n",
    "    best_solution = f(best_x)\n",
    "    \n",
    "    #initially set the centering X to the current best x\n",
    "    xCenter = best_x\n",
    "    \n",
    "    #set the centering y to be the applied function of best x\n",
    "    yCenter = best_solution\n",
    "    \n",
    "    #apply constraints:\n",
    "    constraints = 0 \n",
    "    constraints = s(best_x,g1,r=10) + s(best_x,g2,r=10) + s(best_x,g3,r=10) + s(best_x,g4,r=10)\n",
    "    yCenter = phi_static(best_x,function,constraints)\n",
    "    \n",
    "    #for 1 to k:\n",
    "    # Find the best solution given any number of iterations\n",
    "    for i in range(1,iterations):\n",
    "        \n",
    "        #gradually reduce the temperature\n",
    "        temperature = temperature / i\n",
    "        \n",
    "        #apply special T function\n",
    "        new_x = T(xCenter,boundary)\n",
    "        \n",
    "        #make sure x dimensions are still within boundary\n",
    "        new_x =bound(new_x,boundary)\n",
    "        \n",
    "        newConstraints = 0\n",
    "        # apply total static penalty of all constraints and compute resulting y value\n",
    "        newConstraints = s(new_x,g1,r=10) + s(new_x,g2,r=10) + s(new_x,g3,r=10) + s(new_x,g4,r=10)\n",
    "        new_yCenter = phi_static(new_x,function,constraints)\n",
    "        new_solution = f(new_x)\n",
    "        delta = (new_yCenter - yCenter)\n",
    "        \n",
    "        # probability of acceptance. Choosing whether to exploit (delta <=0) or explore (random.random() < min(m.exp(-delta/temperature),1))\n",
    "        if delta <= 0 or random.random() < min(m.exp(-delta/temperature),1):\n",
    "            xCenter = new_x\n",
    "            yCenter = new_yCenter\n",
    "        \n",
    "        #update the best solution\n",
    "        if(new_solution< best_solution):\n",
    "            best_solution = new_solution\n",
    "            best_x = new_x\n",
    "            yCenter = new_yCenter\n",
    "            \n",
    "    return best_x, best_solution"
   ]
  },
  {
   "cell_type": "code",
   "execution_count": 102,
   "metadata": {
    "scrolled": false
   },
   "outputs": [
    {
     "name": "stderr",
     "output_type": "stream",
     "text": [
      "<ipython-input-101-ad3849aad097>:42: RuntimeWarning: overflow encountered in double_scalars\n",
      "  if delta <= 0 or random.random() < min(m.exp(-delta/temperature),1):\n",
      "<ipython-input-101-ad3849aad097>:42: RuntimeWarning: divide by zero encountered in double_scalars\n",
      "  if delta <= 0 or random.random() < min(m.exp(-delta/temperature),1):\n"
     ]
    },
    {
     "name": "stdout",
     "output_type": "stream",
     "text": [
      "(array([0.05, 0.25, 2.  ]), 0.0025000000000000005)\n"
     ]
    }
   ],
   "source": [
    "print(SA(x,f,3000,50))"
   ]
  },
  {
   "cell_type": "markdown",
   "metadata": {},
   "source": [
    "### Task 4"
   ]
  },
  {
   "cell_type": "code",
   "execution_count": 103,
   "metadata": {},
   "outputs": [
    {
     "name": "stderr",
     "output_type": "stream",
     "text": [
      "<ipython-input-101-ad3849aad097>:42: RuntimeWarning: overflow encountered in double_scalars\n",
      "  if delta <= 0 or random.random() < min(m.exp(-delta/temperature),1):\n",
      "<ipython-input-101-ad3849aad097>:42: RuntimeWarning: divide by zero encountered in double_scalars\n",
      "  if delta <= 0 or random.random() < min(m.exp(-delta/temperature),1):\n"
     ]
    }
   ],
   "source": [
    "repetitions = 21\n",
    "\n",
    "# array of results for the two algorithms\n",
    "RS_output = [RS(x,f,3000)[-1] for i in range(repetitions)]\n",
    "SA_output = [SA(x,f,3000,50)[-1] for i in range(repetitions)]"
   ]
  },
  {
   "cell_type": "code",
   "execution_count": 104,
   "metadata": {
    "scrolled": true
   },
   "outputs": [
    {
     "data": {
      "text/plain": [
       "Text(0, 0.5, 'Best Objective Value')"
      ]
     },
     "execution_count": 104,
     "metadata": {},
     "output_type": "execute_result"
    },
    {
     "data": {
      "image/png": "[encoded data removed]",
      "text/plain": [
       "<Figure size 432x288 with 1 Axes>"
      ]
     },
     "metadata": {
      "needs_background": "light"
     },
     "output_type": "display_data"
    }
   ],
   "source": [
    "plt.boxplot([RS_output,SA_output])\n",
    "plt.xticks([1,2],[\"Random Search\", \"Simulated Annealing\"])\n",
    "plt.ylabel(\"Best Objective Value\")"
   ]
  },
  {
   "cell_type": "markdown",
   "metadata": {},
   "source": []
  },
  {
   "cell_type": "code",
   "execution_count": null,
   "metadata": {},
   "outputs": [],
   "source": []
  },
  {
   "cell_type": "code",
   "execution_count": null,
   "metadata": {},
   "outputs": [],
   "source": []
  }
 ],
 "metadata": {
  "kernelspec": {
   "display_name": "Python 3",
   "language": "python",
   "name": "python3"
  },
  "language_info": {
   "codemirror_mode": {
    "name": "ipython",
    "version": 3
   },
   "file_extension": ".py",
   "mimetype": "text/x-python",
   "name": "python",
   "nbconvert_exporter": "python",
   "pygments_lexer": "ipython3",
   "version": "3.8.5"
  }
 },
 "nbformat": 4,
 "nbformat_minor": 4
}
